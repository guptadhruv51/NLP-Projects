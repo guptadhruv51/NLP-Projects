{
 "cells": [
  {
   "cell_type": "code",
   "execution_count": 1,
   "metadata": {},
   "outputs": [],
   "source": [
    "import nltk\n",
    "from nltk.stem import WordNetLemmatizer\n",
    "import json\n",
    "import tensorflow as tf\n",
    "import pickle\n",
    "import numpy as np\n",
    "import pandas as pd\n",
    "from tensorflow import keras\n",
    "import random"
   ]
  },
  {
   "cell_type": "code",
   "execution_count": 16,
   "metadata": {},
   "outputs": [],
   "source": [
    "words=[]\n",
    "classes = []\n",
    "documents = []\n",
    "ignore_words = ['?', '!']\n",
    "lemmatizer = WordNetLemmatizer()\n",
    "data_file=open('intents.json').read()\n",
    "intents=json.loads(data_file)"
   ]
  },
  {
   "cell_type": "code",
   "execution_count": 21,
   "metadata": {},
   "outputs": [
    {
     "data": {
      "text/plain": [
       "['Hi there',\n",
       " 'How are you',\n",
       " 'Is anyone there?',\n",
       " 'Hey',\n",
       " 'Hola',\n",
       " 'Hello',\n",
       " 'Good day']"
      ]
     },
     "execution_count": 21,
     "metadata": {},
     "output_type": "execute_result"
    }
   ],
   "source": [
    "intents['intents'][0]['patterns']"
   ]
  },
  {
   "cell_type": "raw",
   "metadata": {},
   "source": [
    "preprocessing"
   ]
  },
  {
   "cell_type": "code",
   "execution_count": 22,
   "metadata": {},
   "outputs": [],
   "source": [
    "for intent in intents['intents']:\n",
    "    for pattern in intent['patterns']:\n",
    "        w=nltk.word_tokenize(pattern)\n",
    "        words.extend(w)\n",
    "        documents.append((w,intent['tag']))\n",
    "        \n",
    "        if intent['tag'] not in classes:\n",
    "            classes.append(intent['tag'])        "
   ]
  },
  {
   "cell_type": "code",
   "execution_count": 24,
   "metadata": {},
   "outputs": [
    {
     "data": {
      "text/plain": [
       "[(['Hi', 'there'], 'greeting'),\n",
       " (['How', 'are', 'you'], 'greeting'),\n",
       " (['Is', 'anyone', 'there', '?'], 'greeting'),\n",
       " (['Hey'], 'greeting'),\n",
       " (['Hola'], 'greeting'),\n",
       " (['Hello'], 'greeting'),\n",
       " (['Good', 'day'], 'greeting'),\n",
       " (['Bye'], 'goodbye'),\n",
       " (['See', 'you', 'later'], 'goodbye'),\n",
       " (['Goodbye'], 'goodbye'),\n",
       " (['Nice', 'chatting', 'to', 'you', ',', 'bye'], 'goodbye'),\n",
       " (['Till', 'next', 'time'], 'goodbye'),\n",
       " (['Thanks'], 'thanks'),\n",
       " (['Thank', 'you'], 'thanks'),\n",
       " (['That', \"'s\", 'helpful'], 'thanks'),\n",
       " (['Awesome', ',', 'thanks'], 'thanks'),\n",
       " (['Thanks', 'for', 'helping', 'me'], 'thanks'),\n",
       " (['How', 'you', 'could', 'help', 'me', '?'], 'options'),\n",
       " (['What', 'you', 'can', 'do', '?'], 'options'),\n",
       " (['What', 'help', 'you', 'provide', '?'], 'options'),\n",
       " (['How', 'you', 'can', 'be', 'helpful', '?'], 'options'),\n",
       " (['What', 'support', 'is', 'offered'], 'options'),\n",
       " (['How', 'to', 'check', 'Adverse', 'drug', 'reaction', '?'], 'adverse_drug'),\n",
       " (['Open', 'adverse', 'drugs', 'module'], 'adverse_drug'),\n",
       " (['Give', 'me', 'a', 'list', 'of', 'drugs', 'causing', 'adverse', 'behavior'],\n",
       "  'adverse_drug'),\n",
       " (['List',\n",
       "   'all',\n",
       "   'drugs',\n",
       "   'suitable',\n",
       "   'for',\n",
       "   'patient',\n",
       "   'with',\n",
       "   'adverse',\n",
       "   'reaction'],\n",
       "  'adverse_drug'),\n",
       " (['Which', 'drugs', 'dont', 'have', 'adverse', 'reaction', '?'],\n",
       "  'adverse_drug'),\n",
       " (['Open', 'blood', 'pressure', 'module'], 'blood_pressure'),\n",
       " (['Task', 'related', 'to', 'blood', 'pressure'], 'blood_pressure'),\n",
       " (['Blood', 'pressure', 'data', 'entry'], 'blood_pressure'),\n",
       " (['I', 'want', 'to', 'log', 'blood', 'pressure', 'results'],\n",
       "  'blood_pressure'),\n",
       " (['Blood', 'pressure', 'data', 'management'], 'blood_pressure'),\n",
       " (['I',\n",
       "   'want',\n",
       "   'to',\n",
       "   'search',\n",
       "   'for',\n",
       "   'blood',\n",
       "   'pressure',\n",
       "   'result',\n",
       "   'history'],\n",
       "  'blood_pressure_search'),\n",
       " (['Blood', 'pressure', 'for', 'patient'], 'blood_pressure_search'),\n",
       " (['Load', 'patient', 'blood', 'pressure', 'result'], 'blood_pressure_search'),\n",
       " (['Show', 'blood', 'pressure', 'results', 'for', 'patient'],\n",
       "  'blood_pressure_search'),\n",
       " (['Find', 'blood', 'pressure', 'results', 'by', 'ID'],\n",
       "  'blood_pressure_search'),\n",
       " (['Find', 'me', 'a', 'pharmacy'], 'pharmacy_search'),\n",
       " (['Find', 'pharmacy'], 'pharmacy_search'),\n",
       " (['List', 'of', 'pharmacies', 'nearby'], 'pharmacy_search'),\n",
       " (['Locate', 'pharmacy'], 'pharmacy_search'),\n",
       " (['Search', 'pharmacy'], 'pharmacy_search'),\n",
       " (['Lookup', 'for', 'hospital'], 'hospital_search'),\n",
       " (['Searching', 'for', 'hospital', 'to', 'transfer', 'patient'],\n",
       "  'hospital_search'),\n",
       " (['I', 'want', 'to', 'search', 'hospital', 'data'], 'hospital_search'),\n",
       " (['Hospital', 'lookup', 'for', 'patient'], 'hospital_search'),\n",
       " (['Looking', 'up', 'hospital', 'details'], 'hospital_search')]"
      ]
     },
     "execution_count": 24,
     "metadata": {},
     "output_type": "execute_result"
    }
   ],
   "source": []
  },
  {
   "cell_type": "code",
   "execution_count": null,
   "metadata": {},
   "outputs": [],
   "source": []
  }
 ],
 "metadata": {
  "kernelspec": {
   "display_name": "Python 3",
   "language": "python",
   "name": "python3"
  },
  "language_info": {
   "codemirror_mode": {
    "name": "ipython",
    "version": 3
   },
   "file_extension": ".py",
   "mimetype": "text/x-python",
   "name": "python",
   "nbconvert_exporter": "python",
   "pygments_lexer": "ipython3",
   "version": "3.6.9"
  }
 },
 "nbformat": 4,
 "nbformat_minor": 2
}
