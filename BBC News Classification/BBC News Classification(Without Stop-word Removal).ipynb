{
 "cells": [
  {
   "cell_type": "code",
   "execution_count": 89,
   "metadata": {},
   "outputs": [],
   "source": [
    "import pandas as pd\n",
    "import tensorflow as tf\n",
    "import numpy as np\n",
    "import matplotlib.pyplot as plt\n",
    "from tensorflow.keras.preprocessing.text import Tokenizer\n",
    "from tensorflow.keras.preprocessing.sequence import pad_sequences \n",
    "import nltk\n",
    "import matplotlib.pyplot as plt"
   ]
  },
  {
   "cell_type": "code",
   "execution_count": 47,
   "metadata": {},
   "outputs": [
    {
     "data": {
      "text/html": [
       "<div>\n",
       "<style scoped>\n",
       "    .dataframe tbody tr th:only-of-type {\n",
       "        vertical-align: middle;\n",
       "    }\n",
       "\n",
       "    .dataframe tbody tr th {\n",
       "        vertical-align: top;\n",
       "    }\n",
       "\n",
       "    .dataframe thead th {\n",
       "        text-align: right;\n",
       "    }\n",
       "</style>\n",
       "<table border=\"1\" class=\"dataframe\">\n",
       "  <thead>\n",
       "    <tr style=\"text-align: right;\">\n",
       "      <th></th>\n",
       "      <th>category</th>\n",
       "      <th>text</th>\n",
       "    </tr>\n",
       "  </thead>\n",
       "  <tbody>\n",
       "    <tr>\n",
       "      <th>0</th>\n",
       "      <td>tech</td>\n",
       "      <td>tv future in the hands of viewers with home th...</td>\n",
       "    </tr>\n",
       "    <tr>\n",
       "      <th>1</th>\n",
       "      <td>business</td>\n",
       "      <td>worldcom boss  left books alone  former worldc...</td>\n",
       "    </tr>\n",
       "    <tr>\n",
       "      <th>2</th>\n",
       "      <td>sport</td>\n",
       "      <td>tigers wary of farrell  gamble  leicester say ...</td>\n",
       "    </tr>\n",
       "    <tr>\n",
       "      <th>3</th>\n",
       "      <td>sport</td>\n",
       "      <td>yeading face newcastle in fa cup premiership s...</td>\n",
       "    </tr>\n",
       "    <tr>\n",
       "      <th>4</th>\n",
       "      <td>entertainment</td>\n",
       "      <td>ocean s twelve raids box office ocean s twelve...</td>\n",
       "    </tr>\n",
       "  </tbody>\n",
       "</table>\n",
       "</div>"
      ],
      "text/plain": [
       "        category                                               text\n",
       "0           tech  tv future in the hands of viewers with home th...\n",
       "1       business  worldcom boss  left books alone  former worldc...\n",
       "2          sport  tigers wary of farrell  gamble  leicester say ...\n",
       "3          sport  yeading face newcastle in fa cup premiership s...\n",
       "4  entertainment  ocean s twelve raids box office ocean s twelve..."
      ]
     },
     "execution_count": 47,
     "metadata": {},
     "output_type": "execute_result"
    }
   ],
   "source": [
    "dataset=pd.read_csv('bbc-text.csv')\n",
    "dataset.head()"
   ]
  },
  {
   "cell_type": "code",
   "execution_count": 48,
   "metadata": {},
   "outputs": [],
   "source": [
    "output_label={\n",
    "    'tech':1,\n",
    "    'business':2,\n",
    "    'sport':3,\n",
    "    'politics':4,\n",
    "    'entertainment':5\n",
    "}\n",
    "dataset['category']=dataset['category'].map(output_label)"
   ]
  },
  {
   "cell_type": "code",
   "execution_count": 49,
   "metadata": {},
   "outputs": [
    {
     "name": "stdout",
     "output_type": "stream",
     "text": [
      "2225\n"
     ]
    }
   ],
   "source": [
    "print(len(dataset))"
   ]
  },
  {
   "cell_type": "code",
   "execution_count": 50,
   "metadata": {},
   "outputs": [
    {
     "name": "stderr",
     "output_type": "stream",
     "text": [
      "/Users/guptadhruv51/anaconda3/lib/python3.6/site-packages/ipykernel_launcher.py:1: FutureWarning: `Series.plot()` should not be called with positional arguments, only keyword arguments. The order of positional arguments will change in the future. Use `Series.plot(kind='bar')` instead of `Series.plot('bar',)`.\n",
      "  \"\"\"Entry point for launching an IPython kernel.\n"
     ]
    },
    {
     "data": {
      "text/plain": [
       "<matplotlib.axes._subplots.AxesSubplot at 0x139740400>"
      ]
     },
     "execution_count": 50,
     "metadata": {},
     "output_type": "execute_result"
    },
    {
     "data": {
      "image/png": "[encoded data removed]",
      "text/plain": [
       "<Figure size 432x288 with 1 Axes>"
      ]
     },
     "metadata": {
      "needs_background": "light"
     },
     "output_type": "display_data"
    }
   ],
   "source": [
    "dataset['category'].value_counts().plot('bar')"
   ]
  },
  {
   "cell_type": "code",
   "execution_count": 51,
   "metadata": {},
   "outputs": [
    {
     "name": "stdout",
     "output_type": "stream",
     "text": [
      "153\n"
     ]
    }
   ],
   "source": [
    "stopwords = [ \"a\", \"about\", \"above\", \"after\", \"again\", \"against\", \"all\", \"am\", \"an\", \"and\", \"any\", \"are\", \"as\", \"at\", \"be\", \"because\", \"been\", \"before\", \"being\", \"below\", \"between\", \"both\", \"but\", \"by\", \"could\", \"did\", \"do\", \"does\", \"doing\", \"down\", \"during\", \"each\", \"few\", \"for\", \"from\", \"further\", \"had\", \"has\", \"have\", \"having\", \"he\", \"he'd\", \"he'll\", \"he's\", \"her\", \"here\", \"here's\", \"hers\", \"herself\", \"him\", \"himself\", \"his\", \"how\", \"how's\", \"i\", \"i'd\", \"i'll\", \"i'm\", \"i've\", \"if\", \"in\", \"into\", \"is\", \"it\", \"it's\", \"its\", \"itself\", \"let's\", \"me\", \"more\", \"most\", \"my\", \"myself\", \"nor\", \"of\", \"on\", \"once\", \"only\", \"or\", \"other\", \"ought\", \"our\", \"ours\", \"ourselves\", \"out\", \"over\", \"own\", \"same\", \"she\", \"she'd\", \"she'll\", \"she's\", \"should\", \"so\", \"some\", \"such\", \"than\", \"that\", \"that's\", \"the\", \"their\", \"theirs\", \"them\", \"themselves\", \"then\", \"there\", \"there's\", \"these\", \"they\", \"they'd\", \"they'll\", \"they're\", \"they've\", \"this\", \"those\", \"through\", \"to\", \"too\", \"under\", \"until\", \"up\", \"very\", \"was\", \"we\", \"we'd\", \"we'll\", \"we're\", \"we've\", \"were\", \"what\", \"what's\", \"when\", \"when's\", \"where\", \"where's\", \"which\", \"while\", \"who\", \"who's\", \"whom\", \"why\", \"why's\", \"with\", \"would\", \"you\", \"you'd\", \"you'll\", \"you're\", \"you've\", \"your\", \"yours\", \"yourself\", \"yourselves\" ]\n",
    "print(len(stopwords))"
   ]
  },
  {
   "cell_type": "code",
   "execution_count": 52,
   "metadata": {},
   "outputs": [],
   "source": [
    "sentences=[]\n",
    "labels=[]\n",
    "for i in dataset['text']:\n",
    "    sentences.append(i)\n",
    "for i in dataset['category']:\n",
    "    labels.append(i)    "
   ]
  },
  {
   "cell_type": "code",
   "execution_count": 58,
   "metadata": {},
   "outputs": [],
   "source": [
    "training_portion=0.8\n",
    "vocab_size=1000\n",
    "embedding_dim=16\n",
    "oov_token='<OOV>'\n",
    "max_length=120\n",
    "trunc_type='post'\n",
    "padding_type='post'"
   ]
  },
  {
   "cell_type": "code",
   "execution_count": 61,
   "metadata": {},
   "outputs": [
    {
     "name": "stdout",
     "output_type": "stream",
     "text": [
      "1780 1780\n",
      "445 445\n"
     ]
    }
   ],
   "source": [
    "training_size=int(len(sentences)*training_portion)\n",
    "train_sentences=sentences[:training_size]\n",
    "train_labels=labels[:training_size]\n",
    "validation_sentences=sentences[training_size:]\n",
    "validation_labels=labels[training_size:]\n",
    "print(len(train_sentences),len(train_labels))\n",
    "print(len(validation_sentences),len(validation_labels))"
   ]
  },
  {
   "cell_type": "code",
   "execution_count": 62,
   "metadata": {},
   "outputs": [],
   "source": [
    "tokenizer=Tokenizer(num_words=vocab_size,oov_token=oov_token)\n",
    "tokenizer.fit_on_texts(train_sentences)\n",
    "word_index=tokenizer.word_index\n",
    "train_sequences=tokenizer.texts_to_sequences(train_sentences)\n",
    "print(np.asarray(train_sequences).shape)\n",
    "train_padded=pad_sequences(train_sequences,padding=padding_type,maxlen=max_length)\n",
    "print(train_padded.shape)"
   ]
  },
  {
   "cell_type": "code",
   "execution_count": 72,
   "metadata": {},
   "outputs": [
    {
     "name": "stdout",
     "output_type": "stream",
     "text": [
      "(445,)\n",
      "(445, 120)\n"
     ]
    }
   ],
   "source": [
    "validation_sequences=tokenizer.texts_to_sequences(validation_sentences)\n",
    "print(np.asarray(validation_sequences).shape)\n",
    "validation_padded=pad_sequences(validation_sequences,padding=padding_type,maxlen=max_length)\n",
    "print(validation_padded.shape)"
   ]
  },
  {
   "cell_type": "code",
   "execution_count": 80,
   "metadata": {},
   "outputs": [],
   "source": [
    "validation_labels=np.asarray(validation_labels).reshape(-1,1)\n",
    "train_labels=np.asarray(train_labels).reshape(-1,1)"
   ]
  },
  {
   "cell_type": "code",
   "execution_count": 86,
   "metadata": {},
   "outputs": [
    {
     "name": "stdout",
     "output_type": "stream",
     "text": [
      "Model: \"sequential_1\"\n",
      "_________________________________________________________________\n",
      "Layer (type)                 Output Shape              Param #   \n",
      "=================================================================\n",
      "embedding_3 (Embedding)      (None, 120, 16)           16000     \n",
      "_________________________________________________________________\n",
      "global_average_pooling1d (Gl (None, 16)                0         \n",
      "_________________________________________________________________\n",
      "dense (Dense)                (None, 24)                408       \n",
      "_________________________________________________________________\n",
      "dense_1 (Dense)              (None, 6)                 150       \n",
      "=================================================================\n",
      "Total params: 16,558\n",
      "Trainable params: 16,558\n",
      "Non-trainable params: 0\n",
      "_________________________________________________________________\n"
     ]
    }
   ],
   "source": [
    "model=tf.keras.models.Sequential([\n",
    "    tf.keras.layers.Embedding(vocab_size,embedding_dim,input_length=max_length),\n",
    "    tf.keras.layers.GlobalAveragePooling1D(),\n",
    "    tf.keras.layers.Dense(24,activation=tf.nn.relu),\n",
    "    tf.keras.layers.Dense(6,activation=tf.nn.softmax)\n",
    "])\n",
    "model.summary()"
   ]
  },
  {
   "cell_type": "code",
   "execution_count": 88,
   "metadata": {},
   "outputs": [
    {
     "name": "stdout",
     "output_type": "stream",
     "text": [
      "Train on 1780 samples, validate on 445 samples\n",
      "Epoch 1/30\n",
      "1780/1780 [==============================] - 2s 903us/sample - loss: 0.0971 - accuracy: 0.9809 - val_loss: 0.3677 - val_accuracy: 0.8652\n",
      "Epoch 2/30\n",
      "1780/1780 [==============================] - 0s 130us/sample - loss: 0.0879 - accuracy: 0.9831 - val_loss: 0.3610 - val_accuracy: 0.8697\n",
      "Epoch 3/30\n",
      "1780/1780 [==============================] - 0s 130us/sample - loss: 0.0805 - accuracy: 0.9854 - val_loss: 0.3587 - val_accuracy: 0.8697\n",
      "Epoch 4/30\n",
      "1780/1780 [==============================] - 0s 129us/sample - loss: 0.0724 - accuracy: 0.9871 - val_loss: 0.3632 - val_accuracy: 0.8629\n",
      "Epoch 5/30\n",
      "1780/1780 [==============================] - 0s 103us/sample - loss: 0.0660 - accuracy: 0.9888 - val_loss: 0.3597 - val_accuracy: 0.8674\n",
      "Epoch 6/30\n",
      "1780/1780 [==============================] - 0s 119us/sample - loss: 0.0605 - accuracy: 0.9899 - val_loss: 0.3623 - val_accuracy: 0.8674\n",
      "Epoch 7/30\n",
      "1780/1780 [==============================] - 0s 121us/sample - loss: 0.0557 - accuracy: 0.9927 - val_loss: 0.3627 - val_accuracy: 0.8629\n",
      "Epoch 8/30\n",
      "1780/1780 [==============================] - 0s 133us/sample - loss: 0.0500 - accuracy: 0.9944 - val_loss: 0.3640 - val_accuracy: 0.8652\n",
      "Epoch 9/30\n",
      "1780/1780 [==============================] - 0s 128us/sample - loss: 0.0454 - accuracy: 0.9961 - val_loss: 0.3630 - val_accuracy: 0.8719\n",
      "Epoch 10/30\n",
      "1780/1780 [==============================] - 0s 116us/sample - loss: 0.0416 - accuracy: 0.9972 - val_loss: 0.3680 - val_accuracy: 0.8674\n",
      "Epoch 11/30\n",
      "1780/1780 [==============================] - 0s 130us/sample - loss: 0.0382 - accuracy: 0.9972 - val_loss: 0.3686 - val_accuracy: 0.8629\n",
      "Epoch 12/30\n",
      "1780/1780 [==============================] - 0s 125us/sample - loss: 0.0347 - accuracy: 0.9978 - val_loss: 0.3713 - val_accuracy: 0.8719\n",
      "Epoch 13/30\n",
      "1780/1780 [==============================] - 0s 108us/sample - loss: 0.0321 - accuracy: 0.9978 - val_loss: 0.3733 - val_accuracy: 0.8697\n",
      "Epoch 14/30\n",
      "1780/1780 [==============================] - 0s 126us/sample - loss: 0.0292 - accuracy: 0.9978 - val_loss: 0.3776 - val_accuracy: 0.8674\n",
      "Epoch 15/30\n",
      "1780/1780 [==============================] - 0s 121us/sample - loss: 0.0266 - accuracy: 0.9983 - val_loss: 0.3815 - val_accuracy: 0.8719\n",
      "Epoch 16/30\n",
      "1780/1780 [==============================] - 0s 148us/sample - loss: 0.0243 - accuracy: 0.9989 - val_loss: 0.3854 - val_accuracy: 0.8629\n",
      "Epoch 17/30\n",
      "1780/1780 [==============================] - 0s 122us/sample - loss: 0.0222 - accuracy: 0.9994 - val_loss: 0.3840 - val_accuracy: 0.8674\n",
      "Epoch 18/30\n",
      "1780/1780 [==============================] - 0s 129us/sample - loss: 0.0206 - accuracy: 0.9994 - val_loss: 0.3857 - val_accuracy: 0.8674\n",
      "Epoch 19/30\n",
      "1780/1780 [==============================] - 0s 108us/sample - loss: 0.0189 - accuracy: 0.9994 - val_loss: 0.3905 - val_accuracy: 0.8697\n",
      "Epoch 20/30\n",
      "1780/1780 [==============================] - 0s 122us/sample - loss: 0.0172 - accuracy: 0.9994 - val_loss: 0.3967 - val_accuracy: 0.8697\n",
      "Epoch 21/30\n",
      "1780/1780 [==============================] - 0s 118us/sample - loss: 0.0159 - accuracy: 0.9994 - val_loss: 0.3987 - val_accuracy: 0.8629\n",
      "Epoch 22/30\n",
      "1780/1780 [==============================] - 0s 117us/sample - loss: 0.0148 - accuracy: 0.9994 - val_loss: 0.4008 - val_accuracy: 0.8674\n",
      "Epoch 23/30\n",
      "1780/1780 [==============================] - 0s 119us/sample - loss: 0.0135 - accuracy: 0.9994 - val_loss: 0.4069 - val_accuracy: 0.8674\n",
      "Epoch 24/30\n",
      "1780/1780 [==============================] - 0s 106us/sample - loss: 0.0124 - accuracy: 1.0000 - val_loss: 0.4054 - val_accuracy: 0.8674\n",
      "Epoch 25/30\n",
      "1780/1780 [==============================] - 0s 120us/sample - loss: 0.0117 - accuracy: 1.0000 - val_loss: 0.4087 - val_accuracy: 0.8674\n",
      "Epoch 26/30\n",
      "1780/1780 [==============================] - 0s 121us/sample - loss: 0.0109 - accuracy: 1.0000 - val_loss: 0.4139 - val_accuracy: 0.8674\n",
      "Epoch 27/30\n",
      "1780/1780 [==============================] - 0s 119us/sample - loss: 0.0099 - accuracy: 1.0000 - val_loss: 0.4170 - val_accuracy: 0.8674\n",
      "Epoch 28/30\n",
      "1780/1780 [==============================] - 0s 114us/sample - loss: 0.0093 - accuracy: 1.0000 - val_loss: 0.4204 - val_accuracy: 0.8674\n",
      "Epoch 29/30\n",
      "1780/1780 [==============================] - 0s 101us/sample - loss: 0.0085 - accuracy: 1.0000 - val_loss: 0.4228 - val_accuracy: 0.8674\n",
      "Epoch 30/30\n",
      "1780/1780 [==============================] - 0s 102us/sample - loss: 0.0080 - accuracy: 1.0000 - val_loss: 0.4265 - val_accuracy: 0.8674\n"
     ]
    }
   ],
   "source": [
    "num_epochs=30\n",
    "model.compile(optimizer='adam',loss='sparse_categorical_crossentropy',metrics=['accuracy'])\n",
    "history=model.fit(train_padded,train_labels,epochs=num_epochs,validation_data=(validation_padded,validation_labels))"
   ]
  },
  {
   "cell_type": "code",
   "execution_count": 90,
   "metadata": {},
   "outputs": [],
   "source": [
    "def plot_graphs(history,string):\n",
    "    plt.plot(history.history[string])\n",
    "    plt.plot(history.history['val_'+string])\n",
    "    plt.xlabel('Epochs')\n",
    "    plt.ylabel(string)\n",
    "    plt.legend([string,\"val_\"+string])\n",
    "    plt.show()"
   ]
  },
  {
   "cell_type": "code",
   "execution_count": 92,
   "metadata": {},
   "outputs": [
    {
     "data": {
      "image/png": "[encoded data removed]",
      "text/plain": [
       "<Figure size 432x288 with 1 Axes>"
      ]
     },
     "metadata": {
      "needs_background": "light"
     },
     "output_type": "display_data"
    },
    {
     "data": {
      "image/png": "[encoded data removed]",
      "text/plain": [
       "<Figure size 432x288 with 1 Axes>"
      ]
     },
     "metadata": {
      "needs_background": "light"
     },
     "output_type": "display_data"
    }
   ],
   "source": [
    "plot_graphs(history,\"accuracy\")\n",
    "plot_graphs(history,\"loss\")"
   ]
  },
  {
   "cell_type": "code",
   "execution_count": null,
   "metadata": {},
   "outputs": [],
   "source": []
  }
 ],
 "metadata": {
  "kernelspec": {
   "display_name": "Python 3",
   "language": "python",
   "name": "python3"
  },
  "language_info": {
   "codemirror_mode": {
    "name": "ipython",
    "version": 3
   },
   "file_extension": ".py",
   "mimetype": "text/x-python",
   "name": "python",
   "nbconvert_exporter": "python",
   "pygments_lexer": "ipython3",
   "version": "3.6.9"
  }
 },
 "nbformat": 4,
 "nbformat_minor": 2
}
