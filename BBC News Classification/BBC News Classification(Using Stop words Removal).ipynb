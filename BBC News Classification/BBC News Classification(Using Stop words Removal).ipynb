{
 "cells": [
  {
   "cell_type": "code",
   "execution_count": 13,
   "metadata": {},
   "outputs": [],
   "source": [
    "import nltk\n",
    "import pandas as pd\n",
    "import numpy as np\n",
    "import tensorflow as tf\n",
    "from tensorflow.keras.preprocessing.text import Tokenizer\n",
    "import sklearn\n",
    "from tensorflow.keras.preprocessing.sequence import pad_sequences\n",
    "import matplotlib.pyplot as plt\n",
    "from nltk.corpus import stopwords\n",
    "#nltk.download()"
   ]
  },
  {
   "cell_type": "code",
   "execution_count": 4,
   "metadata": {},
   "outputs": [
    {
     "data": {
      "text/html": [
       "<div>\n",
       "<style scoped>\n",
       "    .dataframe tbody tr th:only-of-type {\n",
       "        vertical-align: middle;\n",
       "    }\n",
       "\n",
       "    .dataframe tbody tr th {\n",
       "        vertical-align: top;\n",
       "    }\n",
       "\n",
       "    .dataframe thead th {\n",
       "        text-align: right;\n",
       "    }\n",
       "</style>\n",
       "<table border=\"1\" class=\"dataframe\">\n",
       "  <thead>\n",
       "    <tr style=\"text-align: right;\">\n",
       "      <th></th>\n",
       "      <th>category</th>\n",
       "      <th>text</th>\n",
       "    </tr>\n",
       "  </thead>\n",
       "  <tbody>\n",
       "    <tr>\n",
       "      <th>0</th>\n",
       "      <td>tech</td>\n",
       "      <td>tv future in the hands of viewers with home th...</td>\n",
       "    </tr>\n",
       "    <tr>\n",
       "      <th>1</th>\n",
       "      <td>business</td>\n",
       "      <td>worldcom boss  left books alone  former worldc...</td>\n",
       "    </tr>\n",
       "    <tr>\n",
       "      <th>2</th>\n",
       "      <td>sport</td>\n",
       "      <td>tigers wary of farrell  gamble  leicester say ...</td>\n",
       "    </tr>\n",
       "    <tr>\n",
       "      <th>3</th>\n",
       "      <td>sport</td>\n",
       "      <td>yeading face newcastle in fa cup premiership s...</td>\n",
       "    </tr>\n",
       "    <tr>\n",
       "      <th>4</th>\n",
       "      <td>entertainment</td>\n",
       "      <td>ocean s twelve raids box office ocean s twelve...</td>\n",
       "    </tr>\n",
       "  </tbody>\n",
       "</table>\n",
       "</div>"
      ],
      "text/plain": [
       "        category                                               text\n",
       "0           tech  tv future in the hands of viewers with home th...\n",
       "1       business  worldcom boss  left books alone  former worldc...\n",
       "2          sport  tigers wary of farrell  gamble  leicester say ...\n",
       "3          sport  yeading face newcastle in fa cup premiership s...\n",
       "4  entertainment  ocean s twelve raids box office ocean s twelve..."
      ]
     },
     "execution_count": 4,
     "metadata": {},
     "output_type": "execute_result"
    }
   ],
   "source": [
    "dataset=pd.read_csv('bbc-text.csv')\n",
    "dataset.head()"
   ]
  },
  {
   "cell_type": "code",
   "execution_count": 7,
   "metadata": {},
   "outputs": [
    {
     "name": "stderr",
     "output_type": "stream",
     "text": [
      "/Users/guptadhruv51/anaconda3/lib/python3.6/site-packages/ipykernel_launcher.py:1: FutureWarning: `Series.plot()` should not be called with positional arguments, only keyword arguments. The order of positional arguments will change in the future. Use `Series.plot(kind='bar')` instead of `Series.plot('bar',)`.\n",
      "  \"\"\"Entry point for launching an IPython kernel.\n"
     ]
    },
    {
     "data": {
      "text/plain": [
       "<matplotlib.axes._subplots.AxesSubplot at 0x1575e19b0>"
      ]
     },
     "execution_count": 7,
     "metadata": {},
     "output_type": "execute_result"
    },
    {
     "data": {
      "image/png": "[encoded data removed]",
      "text/plain": [
       "<Figure size 432x288 with 1 Axes>"
      ]
     },
     "metadata": {
      "needs_background": "light"
     },
     "output_type": "display_data"
    }
   ],
   "source": [
    "dataset['category'].value_counts().plot('bar')"
   ]
  },
  {
   "cell_type": "code",
   "execution_count": 8,
   "metadata": {},
   "outputs": [
    {
     "data": {
      "text/html": [
       "<div>\n",
       "<style scoped>\n",
       "    .dataframe tbody tr th:only-of-type {\n",
       "        vertical-align: middle;\n",
       "    }\n",
       "\n",
       "    .dataframe tbody tr th {\n",
       "        vertical-align: top;\n",
       "    }\n",
       "\n",
       "    .dataframe thead th {\n",
       "        text-align: right;\n",
       "    }\n",
       "</style>\n",
       "<table border=\"1\" class=\"dataframe\">\n",
       "  <thead>\n",
       "    <tr style=\"text-align: right;\">\n",
       "      <th></th>\n",
       "      <th>category</th>\n",
       "      <th>text</th>\n",
       "    </tr>\n",
       "  </thead>\n",
       "  <tbody>\n",
       "    <tr>\n",
       "      <th>0</th>\n",
       "      <td>1</td>\n",
       "      <td>tv future in the hands of viewers with home th...</td>\n",
       "    </tr>\n",
       "    <tr>\n",
       "      <th>1</th>\n",
       "      <td>3</td>\n",
       "      <td>worldcom boss  left books alone  former worldc...</td>\n",
       "    </tr>\n",
       "    <tr>\n",
       "      <th>2</th>\n",
       "      <td>2</td>\n",
       "      <td>tigers wary of farrell  gamble  leicester say ...</td>\n",
       "    </tr>\n",
       "    <tr>\n",
       "      <th>3</th>\n",
       "      <td>2</td>\n",
       "      <td>yeading face newcastle in fa cup premiership s...</td>\n",
       "    </tr>\n",
       "    <tr>\n",
       "      <th>4</th>\n",
       "      <td>5</td>\n",
       "      <td>ocean s twelve raids box office ocean s twelve...</td>\n",
       "    </tr>\n",
       "  </tbody>\n",
       "</table>\n",
       "</div>"
      ],
      "text/plain": [
       "   category                                               text\n",
       "0         1  tv future in the hands of viewers with home th...\n",
       "1         3  worldcom boss  left books alone  former worldc...\n",
       "2         2  tigers wary of farrell  gamble  leicester say ...\n",
       "3         2  yeading face newcastle in fa cup premiership s...\n",
       "4         5  ocean s twelve raids box office ocean s twelve..."
      ]
     },
     "execution_count": 8,
     "metadata": {},
     "output_type": "execute_result"
    }
   ],
   "source": [
    "new_categories={\n",
    "    'tech':1,\n",
    "    'sport':2,\n",
    "    'business':3,\n",
    "    'politics':4,\n",
    "    'entertainment':5\n",
    "}\n",
    "dataset['category']=dataset['category'].map(new_categories)\n",
    "dataset.head()"
   ]
  },
  {
   "cell_type": "code",
   "execution_count": 26,
   "metadata": {},
   "outputs": [],
   "source": [
    "sentences_dataset=[]\n",
    "for i in dataset['text']:\n",
    "    sentences=nltk.sent_tokenize(i)\n",
    "    for j in range(len(sentences)):\n",
    "        words=nltk.word_tokenize(sentences[j])\n",
    "        newwords=[word for word in words if word not in stopwords.words('English')]\n",
    "        sentences[j]=' '.join(newwords)  \n",
    "    sentences=''.join(sentences)    \n",
    "    sentences_dataset.append(sentences)    "
   ]
  },
  {
   "cell_type": "code",
   "execution_count": 33,
   "metadata": {},
   "outputs": [
    {
     "name": "stdout",
     "output_type": "stream",
     "text": [
      "1780 1780\n",
      "445 445\n"
     ]
    }
   ],
   "source": [
    "from sklearn.model_selection import train_test_split\n",
    "sentences_dataset=np.asarray(sentences_dataset)\n",
    "labels=np.asarray(dataset['category'])\n",
    "X_train,X_test,y_train,y_test=train_test_split(sentences_dataset,labels,test_size=0.2)\n",
    "print(len(X_train),len(y_train))\n",
    "print(len(X_test),len(y_test))"
   ]
  },
  {
   "cell_type": "code",
   "execution_count": 34,
   "metadata": {},
   "outputs": [],
   "source": [
    "vocab_size=1000\n",
    "oov_token='<OOV>'\n",
    "embedding_dim=16\n",
    "truncating_type='post'\n",
    "padding_type='post'\n",
    "max_length=120"
   ]
  },
  {
   "cell_type": "code",
   "execution_count": 36,
   "metadata": {},
   "outputs": [],
   "source": [
    "tokenizer=Tokenizer(num_words=vocab_size,oov_token=oov_token)\n",
    "tokenizer.fit_on_texts(X_train)\n",
    "word_index=tokenizer.word_index\n",
    "tokenized_X_train=tokenizer.texts_to_sequences(X_train)\n",
    "padded_X_train=pad_sequences(tokenized_X_train,maxlen=max_length,padding=padding_type,truncating=truncating_type)\n",
    "tokenized_X_test=tokenizer.texts_to_sequences(X_test)\n",
    "padded_X_test=pad_sequences(tokenized_X_test,maxlen=max_length,padding=padding_type,truncating=truncating_type)"
   ]
  },
  {
   "cell_type": "code",
   "execution_count": 38,
   "metadata": {},
   "outputs": [
    {
     "name": "stdout",
     "output_type": "stream",
     "text": [
      "(1780, 120) (1780,)\n",
      "(445, 120) (445,)\n"
     ]
    }
   ],
   "source": [
    "print(padded_X_train.shape,y_train.shape)\n",
    "print(padded_X_test.shape,y_test.shape)"
   ]
  },
  {
   "cell_type": "code",
   "execution_count": 41,
   "metadata": {},
   "outputs": [
    {
     "name": "stdout",
     "output_type": "stream",
     "text": [
      "Model: \"sequential_1\"\n",
      "_________________________________________________________________\n",
      "Layer (type)                 Output Shape              Param #   \n",
      "=================================================================\n",
      "embedding_1 (Embedding)      (None, 120, 16)           16000     \n",
      "_________________________________________________________________\n",
      "global_average_pooling1d_1 ( (None, 16)                0         \n",
      "_________________________________________________________________\n",
      "dense_2 (Dense)              (None, 24)                408       \n",
      "_________________________________________________________________\n",
      "dense_3 (Dense)              (None, 6)                 150       \n",
      "=================================================================\n",
      "Total params: 16,558\n",
      "Trainable params: 16,558\n",
      "Non-trainable params: 0\n",
      "_________________________________________________________________\n"
     ]
    }
   ],
   "source": [
    "model=tf.keras.models.Sequential([\n",
    "    tf.keras.layers.Embedding(vocab_size,embedding_dim,input_length=max_length),\n",
    "    tf.keras.layers.GlobalAveragePooling1D(),\n",
    "    tf.keras.layers.Dense(24,activation=tf.nn.relu),\n",
    "    tf.keras.layers.Dense(6,activation=tf.nn.softmax)\n",
    "])\n",
    "model.summary()"
   ]
  },
  {
   "cell_type": "code",
   "execution_count": 42,
   "metadata": {},
   "outputs": [
    {
     "name": "stdout",
     "output_type": "stream",
     "text": [
      "Train on 1780 samples, validate on 445 samples\n",
      "Epoch 1/30\n",
      "1780/1780 [==============================] - 2s 1ms/sample - loss: 1.7596 - accuracy: 0.3017 - val_loss: 1.7245 - val_accuracy: 0.3281\n",
      "Epoch 2/30\n",
      "1780/1780 [==============================] - 0s 107us/sample - loss: 1.6708 - accuracy: 0.3809 - val_loss: 1.6260 - val_accuracy: 0.4337\n",
      "Epoch 3/30\n",
      "1780/1780 [==============================] - 0s 155us/sample - loss: 1.5523 - accuracy: 0.4983 - val_loss: 1.4885 - val_accuracy: 0.4876\n",
      "Epoch 4/30\n",
      "1780/1780 [==============================] - 0s 133us/sample - loss: 1.3820 - accuracy: 0.5556 - val_loss: 1.3121 - val_accuracy: 0.5640\n",
      "Epoch 5/30\n",
      "1780/1780 [==============================] - 0s 201us/sample - loss: 1.1860 - accuracy: 0.6129 - val_loss: 1.1189 - val_accuracy: 0.6674\n",
      "Epoch 6/30\n",
      "1780/1780 [==============================] - 0s 187us/sample - loss: 0.9968 - accuracy: 0.7719 - val_loss: 0.9530 - val_accuracy: 0.7955\n",
      "Epoch 7/30\n",
      "1780/1780 [==============================] - 0s 157us/sample - loss: 0.8286 - accuracy: 0.8697 - val_loss: 0.8026 - val_accuracy: 0.8517\n",
      "Epoch 8/30\n",
      "1780/1780 [==============================] - 0s 237us/sample - loss: 0.6779 - accuracy: 0.9135 - val_loss: 0.6697 - val_accuracy: 0.8989\n",
      "Epoch 9/30\n",
      "1780/1780 [==============================] - 0s 159us/sample - loss: 0.5440 - accuracy: 0.9376 - val_loss: 0.5536 - val_accuracy: 0.9056\n",
      "Epoch 10/30\n",
      "1780/1780 [==============================] - 0s 181us/sample - loss: 0.4272 - accuracy: 0.9494 - val_loss: 0.4624 - val_accuracy: 0.9213\n",
      "Epoch 11/30\n",
      "1780/1780 [==============================] - 0s 196us/sample - loss: 0.3379 - accuracy: 0.9579 - val_loss: 0.3929 - val_accuracy: 0.9236\n",
      "Epoch 12/30\n",
      "1780/1780 [==============================] - 0s 161us/sample - loss: 0.2721 - accuracy: 0.9635 - val_loss: 0.3433 - val_accuracy: 0.9281\n",
      "Epoch 13/30\n",
      "1780/1780 [==============================] - 0s 146us/sample - loss: 0.2256 - accuracy: 0.9663 - val_loss: 0.3100 - val_accuracy: 0.9303\n",
      "Epoch 14/30\n",
      "1780/1780 [==============================] - 0s 167us/sample - loss: 0.1907 - accuracy: 0.9708 - val_loss: 0.2853 - val_accuracy: 0.9371\n",
      "Epoch 15/30\n",
      "1780/1780 [==============================] - 0s 156us/sample - loss: 0.1645 - accuracy: 0.9747 - val_loss: 0.2658 - val_accuracy: 0.9393\n",
      "Epoch 16/30\n",
      "1780/1780 [==============================] - 0s 122us/sample - loss: 0.1432 - accuracy: 0.9758 - val_loss: 0.2510 - val_accuracy: 0.9393\n",
      "Epoch 17/30\n",
      "1780/1780 [==============================] - 0s 101us/sample - loss: 0.1265 - accuracy: 0.9798 - val_loss: 0.2391 - val_accuracy: 0.9393\n",
      "Epoch 18/30\n",
      "1780/1780 [==============================] - 0s 103us/sample - loss: 0.1123 - accuracy: 0.9809 - val_loss: 0.2301 - val_accuracy: 0.9438\n",
      "Epoch 19/30\n",
      "1780/1780 [==============================] - 0s 112us/sample - loss: 0.1006 - accuracy: 0.9831 - val_loss: 0.2226 - val_accuracy: 0.9438\n",
      "Epoch 20/30\n",
      "1780/1780 [==============================] - 0s 130us/sample - loss: 0.0897 - accuracy: 0.9854 - val_loss: 0.2163 - val_accuracy: 0.9461\n",
      "Epoch 21/30\n",
      "1780/1780 [==============================] - 0s 143us/sample - loss: 0.0807 - accuracy: 0.9876 - val_loss: 0.2106 - val_accuracy: 0.9461\n",
      "Epoch 22/30\n",
      "1780/1780 [==============================] - 0s 126us/sample - loss: 0.0729 - accuracy: 0.9904 - val_loss: 0.2074 - val_accuracy: 0.9461\n",
      "Epoch 23/30\n",
      "1780/1780 [==============================] - 0s 124us/sample - loss: 0.0659 - accuracy: 0.9916 - val_loss: 0.2029 - val_accuracy: 0.9438\n",
      "Epoch 24/30\n",
      "1780/1780 [==============================] - 0s 171us/sample - loss: 0.0600 - accuracy: 0.9921 - val_loss: 0.2004 - val_accuracy: 0.9461\n",
      "Epoch 25/30\n",
      "1780/1780 [==============================] - 0s 153us/sample - loss: 0.0541 - accuracy: 0.9955 - val_loss: 0.1970 - val_accuracy: 0.9416\n",
      "Epoch 26/30\n",
      "1780/1780 [==============================] - 0s 123us/sample - loss: 0.0492 - accuracy: 0.9966 - val_loss: 0.1951 - val_accuracy: 0.9438\n",
      "Epoch 27/30\n",
      "1780/1780 [==============================] - 0s 157us/sample - loss: 0.0444 - accuracy: 0.9972 - val_loss: 0.1926 - val_accuracy: 0.9438\n",
      "Epoch 28/30\n",
      "1780/1780 [==============================] - 0s 121us/sample - loss: 0.0406 - accuracy: 0.9983 - val_loss: 0.1921 - val_accuracy: 0.9506\n",
      "Epoch 29/30\n",
      "1780/1780 [==============================] - 0s 138us/sample - loss: 0.0370 - accuracy: 0.9994 - val_loss: 0.1924 - val_accuracy: 0.9483\n",
      "Epoch 30/30\n",
      "1780/1780 [==============================] - 0s 134us/sample - loss: 0.0338 - accuracy: 0.9994 - val_loss: 0.1904 - val_accuracy: 0.9506\n"
     ]
    }
   ],
   "source": [
    "num_epochs=30\n",
    "model.compile(optimizer='adam',loss='sparse_categorical_crossentropy',metrics=['accuracy'])\n",
    "history=model.fit(padded_X_train,y_train,epochs=num_epochs,validation_data=(padded_X_test,y_test))"
   ]
  },
  {
   "cell_type": "code",
   "execution_count": 43,
   "metadata": {},
   "outputs": [],
   "source": [
    "def plot_graphs(history,string):\n",
    "    plt.plot(history.history[string])\n",
    "    plt.plot(history.history['val_'+string])\n",
    "    plt.xlabel('Epochs')\n",
    "    plt.ylabel(string)\n",
    "    plt.legend([string,\"val_\"+string])\n",
    "    plt.show()"
   ]
  },
  {
   "cell_type": "code",
   "execution_count": 44,
   "metadata": {},
   "outputs": [
    {
     "data": {
      "image/png": "[encoded data removed]",
      "text/plain": [
       "<Figure size 432x288 with 1 Axes>"
      ]
     },
     "metadata": {
      "needs_background": "light"
     },
     "output_type": "display_data"
    },
    {
     "data": {
      "image/png": "[encoded data removed]",
      "text/plain": [
       "<Figure size 432x288 with 1 Axes>"
      ]
     },
     "metadata": {
      "needs_background": "light"
     },
     "output_type": "display_data"
    }
   ],
   "source": [
    "plot_graphs(history,'loss')\n",
    "plot_graphs(history,'accuracy')"
   ]
  },
  {
   "cell_type": "code",
   "execution_count": null,
   "metadata": {},
   "outputs": [],
   "source": []
  }
 ],
 "metadata": {
  "kernelspec": {
   "display_name": "Python 3",
   "language": "python",
   "name": "python3"
  },
  "language_info": {
   "codemirror_mode": {
    "name": "ipython",
    "version": 3
   },
   "file_extension": ".py",
   "mimetype": "text/x-python",
   "name": "python",
   "nbconvert_exporter": "python",
   "pygments_lexer": "ipython3",
   "version": "3.6.9"
  }
 },
 "nbformat": 4,
 "nbformat_minor": 2
}
